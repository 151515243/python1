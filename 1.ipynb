{
  "nbformat": 4,
  "nbformat_minor": 0,
  "metadata": {
    "colab": {
      "name": "1.ipynb",
      "provenance": [],
      "collapsed_sections": [],
      "mount_file_id": "14vUq6SaE0pzExHQBgn7-7V452CoYqHZN",
      "authorship_tag": "ABX9TyM7MeqmAce/fC9kS15SFiRd",
      "include_colab_link": true
    },
    "kernelspec": {
      "name": "python3",
      "display_name": "Python 3"
    }
  },
  "cells": [
    {
      "cell_type": "markdown",
      "metadata": {
        "id": "view-in-github",
        "colab_type": "text"
      },
      "source": [
        "<a href=\"https://colab.research.google.com/github/151515243/python1/blob/master/1.ipynb\" target=\"_parent\"><img src=\"https://colab.research.google.com/assets/colab-badge.svg\" alt=\"Open In Colab\"/></a>"
      ]
    },
    {
      "cell_type": "code",
      "metadata": {
        "id": "LvQaz-JLEsvU",
        "colab_type": "code",
        "outputId": "8d375520-4729-4ada-8839-df2367f37460",
        "colab": {
          "base_uri": "https://localhost:8080/",
          "height": 71
        }
      },
      "source": [
        "pricepen=int(input(\"input number of pen: \"))*2000\n",
        "pricepencil=int(input(\"input number of pencil: \"))*1000\n",
        "price=pricepen + pricepencil\n",
        "print(\"Total price is %d.\" %price)"
      ],
      "execution_count": 0,
      "outputs": [
        {
          "output_type": "stream",
          "text": [
            "input number of pen: 5\n",
            "input number of pencil: 2\n",
            "Total price is 12000.\n"
          ],
          "name": "stdout"
        }
      ]
    }
  ]
}